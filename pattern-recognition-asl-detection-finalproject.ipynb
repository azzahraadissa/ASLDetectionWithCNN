{
 "cells": [
  {
   "cell_type": "code",
   "execution_count": 1,
   "id": "89ac6064",
   "metadata": {
    "execution": {
     "iopub.execute_input": "2024-06-12T06:24:57.664909Z",
     "iopub.status.busy": "2024-06-12T06:24:57.664488Z",
     "iopub.status.idle": "2024-06-12T06:25:18.582149Z",
     "shell.execute_reply": "2024-06-12T06:25:18.580559Z"
    },
    "papermill": {
     "duration": 20.932991,
     "end_time": "2024-06-12T06:25:18.585314",
     "exception": false,
     "start_time": "2024-06-12T06:24:57.652323",
     "status": "completed"
    },
    "tags": []
   },
   "outputs": [
    {
     "name": "stdout",
     "output_type": "stream",
     "text": [
      "Requirement already satisfied: opencv-python in /opt/conda/lib/python3.10/site-packages (4.10.0.82)\r\n",
      "Requirement already satisfied: tensorflow in /opt/conda/lib/python3.10/site-packages (2.15.0)\r\n",
      "Requirement already satisfied: keras in /opt/conda/lib/python3.10/site-packages (3.3.3)\r\n",
      "Requirement already satisfied: numpy>=1.21.2 in /opt/conda/lib/python3.10/site-packages (from opencv-python) (1.26.4)\r\n",
      "Requirement already satisfied: absl-py>=1.0.0 in /opt/conda/lib/python3.10/site-packages (from tensorflow) (1.4.0)\r\n",
      "Requirement already satisfied: astunparse>=1.6.0 in /opt/conda/lib/python3.10/site-packages (from tensorflow) (1.6.3)\r\n",
      "Requirement already satisfied: flatbuffers>=23.5.26 in /opt/conda/lib/python3.10/site-packages (from tensorflow) (23.5.26)\r\n",
      "Requirement already satisfied: gast!=0.5.0,!=0.5.1,!=0.5.2,>=0.2.1 in /opt/conda/lib/python3.10/site-packages (from tensorflow) (0.5.4)\r\n",
      "Requirement already satisfied: google-pasta>=0.1.1 in /opt/conda/lib/python3.10/site-packages (from tensorflow) (0.2.0)\r\n",
      "Requirement already satisfied: h5py>=2.9.0 in /opt/conda/lib/python3.10/site-packages (from tensorflow) (3.10.0)\r\n",
      "Requirement already satisfied: libclang>=13.0.0 in /opt/conda/lib/python3.10/site-packages (from tensorflow) (16.0.6)\r\n",
      "Requirement already satisfied: ml-dtypes~=0.2.0 in /opt/conda/lib/python3.10/site-packages (from tensorflow) (0.2.0)\r\n",
      "Requirement already satisfied: opt-einsum>=2.3.2 in /opt/conda/lib/python3.10/site-packages (from tensorflow) (3.3.0)\r\n",
      "Requirement already satisfied: packaging in /opt/conda/lib/python3.10/site-packages (from tensorflow) (21.3)\r\n",
      "Requirement already satisfied: protobuf!=4.21.0,!=4.21.1,!=4.21.2,!=4.21.3,!=4.21.4,!=4.21.5,<5.0.0dev,>=3.20.3 in /opt/conda/lib/python3.10/site-packages (from tensorflow) (3.20.3)\r\n",
      "Requirement already satisfied: setuptools in /opt/conda/lib/python3.10/site-packages (from tensorflow) (69.0.3)\r\n",
      "Requirement already satisfied: six>=1.12.0 in /opt/conda/lib/python3.10/site-packages (from tensorflow) (1.16.0)\r\n",
      "Requirement already satisfied: termcolor>=1.1.0 in /opt/conda/lib/python3.10/site-packages (from tensorflow) (2.4.0)\r\n",
      "Requirement already satisfied: typing-extensions>=3.6.6 in /opt/conda/lib/python3.10/site-packages (from tensorflow) (4.9.0)\r\n",
      "Requirement already satisfied: wrapt<1.15,>=1.11.0 in /opt/conda/lib/python3.10/site-packages (from tensorflow) (1.14.1)\r\n",
      "Requirement already satisfied: tensorflow-io-gcs-filesystem>=0.23.1 in /opt/conda/lib/python3.10/site-packages (from tensorflow) (0.35.0)\r\n",
      "Requirement already satisfied: grpcio<2.0,>=1.24.3 in /opt/conda/lib/python3.10/site-packages (from tensorflow) (1.60.0)\r\n",
      "Requirement already satisfied: tensorboard<2.16,>=2.15 in /opt/conda/lib/python3.10/site-packages (from tensorflow) (2.15.1)\r\n",
      "Requirement already satisfied: tensorflow-estimator<2.16,>=2.15.0 in /opt/conda/lib/python3.10/site-packages (from tensorflow) (2.15.0)\r\n",
      "Collecting keras\r\n",
      "  Downloading keras-2.15.0-py3-none-any.whl.metadata (2.4 kB)\r\n",
      "Requirement already satisfied: wheel<1.0,>=0.23.0 in /opt/conda/lib/python3.10/site-packages (from astunparse>=1.6.0->tensorflow) (0.42.0)\r\n",
      "Requirement already satisfied: google-auth<3,>=1.6.3 in /opt/conda/lib/python3.10/site-packages (from tensorboard<2.16,>=2.15->tensorflow) (2.26.1)\r\n",
      "Requirement already satisfied: google-auth-oauthlib<2,>=0.5 in /opt/conda/lib/python3.10/site-packages (from tensorboard<2.16,>=2.15->tensorflow) (1.2.0)\r\n",
      "Requirement already satisfied: markdown>=2.6.8 in /opt/conda/lib/python3.10/site-packages (from tensorboard<2.16,>=2.15->tensorflow) (3.5.2)\r\n",
      "Requirement already satisfied: requests<3,>=2.21.0 in /opt/conda/lib/python3.10/site-packages (from tensorboard<2.16,>=2.15->tensorflow) (2.32.3)\r\n",
      "Requirement already satisfied: tensorboard-data-server<0.8.0,>=0.7.0 in /opt/conda/lib/python3.10/site-packages (from tensorboard<2.16,>=2.15->tensorflow) (0.7.2)\r\n",
      "Requirement already satisfied: werkzeug>=1.0.1 in /opt/conda/lib/python3.10/site-packages (from tensorboard<2.16,>=2.15->tensorflow) (3.0.3)\r\n",
      "Requirement already satisfied: pyparsing!=3.0.5,>=2.0.2 in /opt/conda/lib/python3.10/site-packages (from packaging->tensorflow) (3.1.1)\r\n",
      "Requirement already satisfied: cachetools<6.0,>=2.0.0 in /opt/conda/lib/python3.10/site-packages (from google-auth<3,>=1.6.3->tensorboard<2.16,>=2.15->tensorflow) (4.2.4)\r\n",
      "Requirement already satisfied: pyasn1-modules>=0.2.1 in /opt/conda/lib/python3.10/site-packages (from google-auth<3,>=1.6.3->tensorboard<2.16,>=2.15->tensorflow) (0.3.0)\r\n",
      "Requirement already satisfied: rsa<5,>=3.1.4 in /opt/conda/lib/python3.10/site-packages (from google-auth<3,>=1.6.3->tensorboard<2.16,>=2.15->tensorflow) (4.9)\r\n",
      "Requirement already satisfied: requests-oauthlib>=0.7.0 in /opt/conda/lib/python3.10/site-packages (from google-auth-oauthlib<2,>=0.5->tensorboard<2.16,>=2.15->tensorflow) (1.3.1)\r\n",
      "Requirement already satisfied: charset-normalizer<4,>=2 in /opt/conda/lib/python3.10/site-packages (from requests<3,>=2.21.0->tensorboard<2.16,>=2.15->tensorflow) (3.3.2)\r\n",
      "Requirement already satisfied: idna<4,>=2.5 in /opt/conda/lib/python3.10/site-packages (from requests<3,>=2.21.0->tensorboard<2.16,>=2.15->tensorflow) (3.6)\r\n",
      "Requirement already satisfied: urllib3<3,>=1.21.1 in /opt/conda/lib/python3.10/site-packages (from requests<3,>=2.21.0->tensorboard<2.16,>=2.15->tensorflow) (1.26.18)\r\n",
      "Requirement already satisfied: certifi>=2017.4.17 in /opt/conda/lib/python3.10/site-packages (from requests<3,>=2.21.0->tensorboard<2.16,>=2.15->tensorflow) (2024.2.2)\r\n",
      "Requirement already satisfied: MarkupSafe>=2.1.1 in /opt/conda/lib/python3.10/site-packages (from werkzeug>=1.0.1->tensorboard<2.16,>=2.15->tensorflow) (2.1.3)\r\n",
      "Requirement already satisfied: pyasn1<0.6.0,>=0.4.6 in /opt/conda/lib/python3.10/site-packages (from pyasn1-modules>=0.2.1->google-auth<3,>=1.6.3->tensorboard<2.16,>=2.15->tensorflow) (0.5.1)\r\n",
      "Requirement already satisfied: oauthlib>=3.0.0 in /opt/conda/lib/python3.10/site-packages (from requests-oauthlib>=0.7.0->google-auth-oauthlib<2,>=0.5->tensorboard<2.16,>=2.15->tensorflow) (3.2.2)\r\n",
      "Downloading keras-2.15.0-py3-none-any.whl (1.7 MB)\r\n",
      "\u001b[2K   \u001b[90m━━━━━━━━━━━━━━━━━━━━━━━━━━━━━━━━━━━━━━━━\u001b[0m \u001b[32m1.7/1.7 MB\u001b[0m \u001b[31m25.9 MB/s\u001b[0m eta \u001b[36m0:00:00\u001b[0m\r\n",
      "\u001b[?25hInstalling collected packages: keras\r\n",
      "  Attempting uninstall: keras\r\n",
      "    Found existing installation: keras 3.3.3\r\n",
      "    Uninstalling keras-3.3.3:\r\n",
      "      Successfully uninstalled keras-3.3.3\r\n",
      "\u001b[31mERROR: pip's dependency resolver does not currently take into account all the packages that are installed. This behaviour is the source of the following dependency conflicts.\r\n",
      "tensorflow-decision-forests 1.8.1 requires wurlitzer, which is not installed.\u001b[0m\u001b[31m\r\n",
      "\u001b[0mSuccessfully installed keras-2.15.0\r\n",
      "Note: you may need to restart the kernel to use updated packages.\n"
     ]
    }
   ],
   "source": [
    "pip install opencv-python tensorflow keras"
   ]
  },
  {
   "cell_type": "code",
   "execution_count": 2,
   "id": "3393c5e2",
   "metadata": {
    "execution": {
     "iopub.execute_input": "2024-06-12T06:25:18.610030Z",
     "iopub.status.busy": "2024-06-12T06:25:18.609581Z",
     "iopub.status.idle": "2024-06-12T06:25:34.939462Z",
     "shell.execute_reply": "2024-06-12T06:25:34.938177Z"
    },
    "papermill": {
     "duration": 16.345748,
     "end_time": "2024-06-12T06:25:34.942403",
     "exception": false,
     "start_time": "2024-06-12T06:25:18.596655",
     "status": "completed"
    },
    "tags": []
   },
   "outputs": [
    {
     "name": "stderr",
     "output_type": "stream",
     "text": [
      "2024-06-12 06:25:21.143837: E external/local_xla/xla/stream_executor/cuda/cuda_dnn.cc:9261] Unable to register cuDNN factory: Attempting to register factory for plugin cuDNN when one has already been registered\n",
      "2024-06-12 06:25:21.143992: E external/local_xla/xla/stream_executor/cuda/cuda_fft.cc:607] Unable to register cuFFT factory: Attempting to register factory for plugin cuFFT when one has already been registered\n",
      "2024-06-12 06:25:21.310221: E external/local_xla/xla/stream_executor/cuda/cuda_blas.cc:1515] Unable to register cuBLAS factory: Attempting to register factory for plugin cuBLAS when one has already been registered\n"
     ]
    }
   ],
   "source": [
    "import os\n",
    "import cv2\n",
    "import numpy as np\n",
    "from tensorflow.keras.utils import to_categorical"
   ]
  },
  {
   "cell_type": "markdown",
   "id": "7ed32b7b",
   "metadata": {
    "papermill": {
     "duration": 0.010458,
     "end_time": "2024-06-12T06:25:34.964129",
     "exception": false,
     "start_time": "2024-06-12T06:25:34.953671",
     "status": "completed"
    },
    "tags": []
   },
   "source": [
    "**Loading the Dataset**"
   ]
  },
  {
   "cell_type": "code",
   "execution_count": 3,
   "id": "3bc2c9e2",
   "metadata": {
    "execution": {
     "iopub.execute_input": "2024-06-12T06:25:34.988315Z",
     "iopub.status.busy": "2024-06-12T06:25:34.987373Z",
     "iopub.status.idle": "2024-06-12T06:25:35.021510Z",
     "shell.execute_reply": "2024-06-12T06:25:35.020097Z"
    },
    "papermill": {
     "duration": 0.049554,
     "end_time": "2024-06-12T06:25:35.024507",
     "exception": false,
     "start_time": "2024-06-12T06:25:34.974953",
     "status": "completed"
    },
    "tags": []
   },
   "outputs": [],
   "source": [
    "# Define paths\n",
    "data_dir = \"/kaggle/input/asl-alphabet/asl_alphabet_train/asl_alphabet_train\"\n",
    "categories = os.listdir(data_dir)\n",
    "img_size = 64"
   ]
  },
  {
   "cell_type": "markdown",
   "id": "d7c9ffe5",
   "metadata": {
    "papermill": {
     "duration": 0.010438,
     "end_time": "2024-06-12T06:25:35.045869",
     "exception": false,
     "start_time": "2024-06-12T06:25:35.035431",
     "status": "completed"
    },
    "tags": []
   },
   "source": [
    "**Pre-Processing the Data**"
   ]
  },
  {
   "cell_type": "code",
   "execution_count": 4,
   "id": "c128499b",
   "metadata": {
    "execution": {
     "iopub.execute_input": "2024-06-12T06:25:35.070236Z",
     "iopub.status.busy": "2024-06-12T06:25:35.069272Z",
     "iopub.status.idle": "2024-06-12T06:38:22.511508Z",
     "shell.execute_reply": "2024-06-12T06:38:22.509915Z"
    },
    "papermill": {
     "duration": 767.468853,
     "end_time": "2024-06-12T06:38:22.525590",
     "exception": false,
     "start_time": "2024-06-12T06:25:35.056737",
     "status": "completed"
    },
    "tags": []
   },
   "outputs": [
    {
     "name": "stdout",
     "output_type": "stream",
     "text": [
      "Number of samples: 87000\n"
     ]
    }
   ],
   "source": [
    "# Function to create training data\n",
    "def create_training_data():\n",
    "    training_data = []\n",
    "    for category in categories:\n",
    "        path = os.path.join(data_dir, category)\n",
    "        class_num = categories.index(category)\n",
    "        for img in os.listdir(path):\n",
    "            try:\n",
    "                img_array = cv2.imread(os.path.join(path, img), cv2.IMREAD_GRAYSCALE)\n",
    "                resized_array = cv2.resize(img_array, (img_size, img_size))\n",
    "                training_data.append([resized_array, class_num])\n",
    "            except Exception as e:\n",
    "                pass\n",
    "    return training_data\n",
    "\n",
    "training_data = create_training_data()\n",
    "print(f\"Number of samples: {len(training_data)}\")"
   ]
  },
  {
   "cell_type": "code",
   "execution_count": 5,
   "id": "a1c015ef",
   "metadata": {
    "execution": {
     "iopub.execute_input": "2024-06-12T06:38:22.554624Z",
     "iopub.status.busy": "2024-06-12T06:38:22.554110Z",
     "iopub.status.idle": "2024-06-12T06:38:25.208413Z",
     "shell.execute_reply": "2024-06-12T06:38:25.206619Z"
    },
    "papermill": {
     "duration": 2.671139,
     "end_time": "2024-06-12T06:38:25.212047",
     "exception": false,
     "start_time": "2024-06-12T06:38:22.540908",
     "status": "completed"
    },
    "tags": []
   },
   "outputs": [],
   "source": [
    "# Shuffle and split the data\n",
    "import random\n",
    "random.shuffle(training_data)\n",
    "\n",
    "X = []\n",
    "y = []\n",
    "\n",
    "for features, label in training_data:\n",
    "    X.append(features)\n",
    "    y.append(label)\n",
    "\n",
    "X = np.array(X).reshape(-1, img_size, img_size, 1) / 255.0\n",
    "y = to_categorical(y, num_classes=len(categories))"
   ]
  },
  {
   "cell_type": "markdown",
   "id": "33ca8afd",
   "metadata": {
    "papermill": {
     "duration": 0.010769,
     "end_time": "2024-06-12T06:38:25.234545",
     "exception": false,
     "start_time": "2024-06-12T06:38:25.223776",
     "status": "completed"
    },
    "tags": []
   },
   "source": [
    "**Building a CNN model**"
   ]
  },
  {
   "cell_type": "code",
   "execution_count": 6,
   "id": "5cd6014a",
   "metadata": {
    "execution": {
     "iopub.execute_input": "2024-06-12T06:38:25.260043Z",
     "iopub.status.busy": "2024-06-12T06:38:25.259557Z",
     "iopub.status.idle": "2024-06-12T06:38:25.556787Z",
     "shell.execute_reply": "2024-06-12T06:38:25.554827Z"
    },
    "papermill": {
     "duration": 0.321185,
     "end_time": "2024-06-12T06:38:25.566801",
     "exception": false,
     "start_time": "2024-06-12T06:38:25.245616",
     "status": "completed"
    },
    "tags": []
   },
   "outputs": [
    {
     "name": "stdout",
     "output_type": "stream",
     "text": [
      "Model: \"sequential\"\n",
      "_________________________________________________________________\n",
      " Layer (type)                Output Shape              Param #   \n",
      "=================================================================\n",
      " conv2d (Conv2D)             (None, 62, 62, 64)        640       \n",
      "                                                                 \n",
      " max_pooling2d (MaxPooling2  (None, 31, 31, 64)        0         \n",
      " D)                                                              \n",
      "                                                                 \n",
      " conv2d_1 (Conv2D)           (None, 29, 29, 128)       73856     \n",
      "                                                                 \n",
      " max_pooling2d_1 (MaxPoolin  (None, 14, 14, 128)       0         \n",
      " g2D)                                                            \n",
      "                                                                 \n",
      " flatten (Flatten)           (None, 25088)             0         \n",
      "                                                                 \n",
      " dense (Dense)               (None, 128)               3211392   \n",
      "                                                                 \n",
      " dense_1 (Dense)             (None, 29)                3741      \n",
      "                                                                 \n",
      "=================================================================\n",
      "Total params: 3289629 (12.55 MB)\n",
      "Trainable params: 3289629 (12.55 MB)\n",
      "Non-trainable params: 0 (0.00 Byte)\n",
      "_________________________________________________________________\n"
     ]
    }
   ],
   "source": [
    "import tensorflow as tf\n",
    "from tensorflow.keras.models import Sequential\n",
    "from tensorflow.keras.layers import Conv2D, MaxPooling2D, Flatten, Dense\n",
    "\n",
    "model = Sequential()\n",
    "\n",
    "# First convolutional layer\n",
    "model.add(Conv2D(64, (3, 3), activation='relu', input_shape=(img_size, img_size, 1)))\n",
    "model.add(MaxPooling2D((2, 2)))\n",
    "\n",
    "# Second convolutional layer\n",
    "model.add(Conv2D(128, (3, 3), activation='relu'))\n",
    "model.add(MaxPooling2D((2, 2)))\n",
    "\n",
    "# Flatten and dense layers\n",
    "model.add(Flatten())\n",
    "model.add(Dense(128, activation='relu'))\n",
    "model.add(Dense(len(categories), activation='softmax'))\n",
    "\n",
    "model.compile(optimizer='adam', loss='categorical_crossentropy', metrics=['accuracy'])\n",
    "\n",
    "model.summary()"
   ]
  },
  {
   "cell_type": "code",
   "execution_count": 7,
   "id": "91a536f6",
   "metadata": {
    "execution": {
     "iopub.execute_input": "2024-06-12T06:38:25.599308Z",
     "iopub.status.busy": "2024-06-12T06:38:25.598757Z",
     "iopub.status.idle": "2024-06-12T06:38:25.606695Z",
     "shell.execute_reply": "2024-06-12T06:38:25.605485Z"
    },
    "papermill": {
     "duration": 0.028574,
     "end_time": "2024-06-12T06:38:25.609423",
     "exception": false,
     "start_time": "2024-06-12T06:38:25.580849",
     "status": "completed"
    },
    "tags": []
   },
   "outputs": [],
   "source": [
    "# TensorFlow GPU configuration\n",
    "config = tf.compat.v1.ConfigProto()\n",
    "config.gpu_options.allow_growth = True\n",
    "session = tf.compat.v1.Session(config=config)"
   ]
  },
  {
   "cell_type": "markdown",
   "id": "10ebd54d",
   "metadata": {
    "papermill": {
     "duration": 0.013217,
     "end_time": "2024-06-12T06:38:25.636312",
     "exception": false,
     "start_time": "2024-06-12T06:38:25.623095",
     "status": "completed"
    },
    "tags": []
   },
   "source": [
    "**Training the model with 10 Epochs**"
   ]
  },
  {
   "cell_type": "code",
   "execution_count": 8,
   "id": "e0c0942c",
   "metadata": {
    "execution": {
     "iopub.execute_input": "2024-06-12T06:38:25.665929Z",
     "iopub.status.busy": "2024-06-12T06:38:25.665415Z",
     "iopub.status.idle": "2024-06-12T06:46:54.830022Z",
     "shell.execute_reply": "2024-06-12T06:46:54.828287Z"
    },
    "papermill": {
     "duration": 509.398121,
     "end_time": "2024-06-12T06:46:55.048200",
     "exception": false,
     "start_time": "2024-06-12T06:38:25.650079",
     "status": "completed"
    },
    "tags": []
   },
   "outputs": [
    {
     "name": "stdout",
     "output_type": "stream",
     "text": [
      "2175/2175 [==============================] - 505s 231ms/step - loss: 0.8888 - accuracy: 0.7307 - val_loss: 0.2344 - val_accuracy: 0.9193\n"
     ]
    },
    {
     "data": {
      "text/plain": [
       "<keras.src.callbacks.History at 0x78b1e3473d60>"
      ]
     },
     "execution_count": 8,
     "metadata": {},
     "output_type": "execute_result"
    }
   ],
   "source": [
    "# Epoch 1\n",
    "model.fit(X, y, epochs=1, validation_split=0.2)"
   ]
  },
  {
   "cell_type": "code",
   "execution_count": 9,
   "id": "783c1ed1",
   "metadata": {
    "execution": {
     "iopub.execute_input": "2024-06-12T06:46:55.501075Z",
     "iopub.status.busy": "2024-06-12T06:46:55.500620Z",
     "iopub.status.idle": "2024-06-12T06:55:23.640978Z",
     "shell.execute_reply": "2024-06-12T06:55:23.639666Z"
    },
    "papermill": {
     "duration": 508.819175,
     "end_time": "2024-06-12T06:55:24.092563",
     "exception": false,
     "start_time": "2024-06-12T06:46:55.273388",
     "status": "completed"
    },
    "tags": []
   },
   "outputs": [
    {
     "name": "stdout",
     "output_type": "stream",
     "text": [
      "2175/2175 [==============================] - 502s 231ms/step - loss: 0.1414 - accuracy: 0.9546 - val_loss: 0.1060 - val_accuracy: 0.9636\n"
     ]
    },
    {
     "data": {
      "text/plain": [
       "<keras.src.callbacks.History at 0x78b1ce2f4670>"
      ]
     },
     "execution_count": 9,
     "metadata": {},
     "output_type": "execute_result"
    }
   ],
   "source": [
    "# Epoch 2\n",
    "model.fit(X, y, epochs=1, validation_split=0.2)"
   ]
  },
  {
   "cell_type": "code",
   "execution_count": 10,
   "id": "150d26b3",
   "metadata": {
    "execution": {
     "iopub.execute_input": "2024-06-12T06:55:24.980305Z",
     "iopub.status.busy": "2024-06-12T06:55:24.979760Z",
     "iopub.status.idle": "2024-06-12T07:03:57.907030Z",
     "shell.execute_reply": "2024-06-12T07:03:57.905796Z"
    },
    "papermill": {
     "duration": 514.02465,
     "end_time": "2024-06-12T07:03:58.555459",
     "exception": false,
     "start_time": "2024-06-12T06:55:24.530809",
     "status": "completed"
    },
    "tags": []
   },
   "outputs": [
    {
     "name": "stdout",
     "output_type": "stream",
     "text": [
      "2175/2175 [==============================] - 509s 234ms/step - loss: 0.0761 - accuracy: 0.9767 - val_loss: 0.0903 - val_accuracy: 0.9715\n"
     ]
    },
    {
     "data": {
      "text/plain": [
       "<keras.src.callbacks.History at 0x78b1ce2f6a70>"
      ]
     },
     "execution_count": 10,
     "metadata": {},
     "output_type": "execute_result"
    }
   ],
   "source": [
    "# Epoch 3\n",
    "model.fit(X, y, epochs=1, validation_split=0.2)"
   ]
  },
  {
   "cell_type": "code",
   "execution_count": 11,
   "id": "538c0951",
   "metadata": {
    "execution": {
     "iopub.execute_input": "2024-06-12T07:03:59.984389Z",
     "iopub.status.busy": "2024-06-12T07:03:59.983876Z",
     "iopub.status.idle": "2024-06-12T07:12:49.940325Z",
     "shell.execute_reply": "2024-06-12T07:12:49.938757Z"
    },
    "papermill": {
     "duration": 531.449061,
     "end_time": "2024-06-12T07:12:50.779056",
     "exception": false,
     "start_time": "2024-06-12T07:03:59.329995",
     "status": "completed"
    },
    "tags": []
   },
   "outputs": [
    {
     "name": "stdout",
     "output_type": "stream",
     "text": [
      "2175/2175 [==============================] - 525s 241ms/step - loss: 0.0587 - accuracy: 0.9818 - val_loss: 0.0672 - val_accuracy: 0.9814\n"
     ]
    },
    {
     "data": {
      "text/plain": [
       "<keras.src.callbacks.History at 0x78b1cf709bd0>"
      ]
     },
     "execution_count": 11,
     "metadata": {},
     "output_type": "execute_result"
    }
   ],
   "source": [
    "# Epoch 4\n",
    "model.fit(X, y, epochs=1, validation_split=0.2)"
   ]
  },
  {
   "cell_type": "code",
   "execution_count": 12,
   "id": "fd829190",
   "metadata": {
    "execution": {
     "iopub.execute_input": "2024-06-12T07:12:52.637132Z",
     "iopub.status.busy": "2024-06-12T07:12:52.636687Z",
     "iopub.status.idle": "2024-06-12T07:21:26.558558Z",
     "shell.execute_reply": "2024-06-12T07:21:26.556980Z"
    },
    "papermill": {
     "duration": 515.998287,
     "end_time": "2024-06-12T07:21:27.638364",
     "exception": false,
     "start_time": "2024-06-12T07:12:51.640077",
     "status": "completed"
    },
    "tags": []
   },
   "outputs": [
    {
     "name": "stdout",
     "output_type": "stream",
     "text": [
      "2175/2175 [==============================] - 508s 234ms/step - loss: 0.0445 - accuracy: 0.9860 - val_loss: 0.0345 - val_accuracy: 0.9897\n"
     ]
    },
    {
     "data": {
      "text/plain": [
       "<keras.src.callbacks.History at 0x78b1cf737640>"
      ]
     },
     "execution_count": 12,
     "metadata": {},
     "output_type": "execute_result"
    }
   ],
   "source": [
    "# Epoch 5\n",
    "model.fit(X, y, epochs=1, validation_split=0.2)"
   ]
  },
  {
   "cell_type": "code",
   "execution_count": 13,
   "id": "ab7af15c",
   "metadata": {
    "execution": {
     "iopub.execute_input": "2024-06-12T07:21:30.022791Z",
     "iopub.status.busy": "2024-06-12T07:21:30.022262Z",
     "iopub.status.idle": "2024-06-12T07:30:21.310832Z",
     "shell.execute_reply": "2024-06-12T07:30:21.309433Z"
    },
    "papermill": {
     "duration": 533.884589,
     "end_time": "2024-06-12T07:30:22.619009",
     "exception": false,
     "start_time": "2024-06-12T07:21:28.734420",
     "status": "completed"
    },
    "tags": []
   },
   "outputs": [
    {
     "name": "stdout",
     "output_type": "stream",
     "text": [
      "2175/2175 [==============================] - 525s 241ms/step - loss: 0.0342 - accuracy: 0.9899 - val_loss: 0.0675 - val_accuracy: 0.9789\n"
     ]
    },
    {
     "data": {
      "text/plain": [
       "<keras.src.callbacks.History at 0x78b1cf776170>"
      ]
     },
     "execution_count": 13,
     "metadata": {},
     "output_type": "execute_result"
    }
   ],
   "source": [
    "# Epoch 6\n",
    "model.fit(X, y, epochs=1, validation_split=0.2)"
   ]
  },
  {
   "cell_type": "code",
   "execution_count": 14,
   "id": "c53ce149",
   "metadata": {
    "execution": {
     "iopub.execute_input": "2024-06-12T07:30:25.396988Z",
     "iopub.status.busy": "2024-06-12T07:30:25.396544Z",
     "iopub.status.idle": "2024-06-12T07:39:15.888855Z",
     "shell.execute_reply": "2024-06-12T07:39:15.887486Z"
    },
    "papermill": {
     "duration": 533.449316,
     "end_time": "2024-06-12T07:39:17.533337",
     "exception": false,
     "start_time": "2024-06-12T07:30:24.084021",
     "status": "completed"
    },
    "tags": []
   },
   "outputs": [
    {
     "name": "stdout",
     "output_type": "stream",
     "text": [
      "2175/2175 [==============================] - 527s 242ms/step - loss: 0.0336 - accuracy: 0.9904 - val_loss: 0.0639 - val_accuracy: 0.9818\n"
     ]
    },
    {
     "data": {
      "text/plain": [
       "<keras.src.callbacks.History at 0x78b1cf749ba0>"
      ]
     },
     "execution_count": 14,
     "metadata": {},
     "output_type": "execute_result"
    }
   ],
   "source": [
    "# Epoch 7\n",
    "model.fit(X, y, epochs=1, validation_split=0.2)"
   ]
  },
  {
   "cell_type": "code",
   "execution_count": 15,
   "id": "3cdc7fc3",
   "metadata": {
    "execution": {
     "iopub.execute_input": "2024-06-12T07:39:20.686506Z",
     "iopub.status.busy": "2024-06-12T07:39:20.685042Z",
     "iopub.status.idle": "2024-06-12T07:48:08.267264Z",
     "shell.execute_reply": "2024-06-12T07:48:08.265762Z"
    },
    "papermill": {
     "duration": 530.968808,
     "end_time": "2024-06-12T07:48:10.014507",
     "exception": false,
     "start_time": "2024-06-12T07:39:19.045699",
     "status": "completed"
    },
    "tags": []
   },
   "outputs": [
    {
     "name": "stdout",
     "output_type": "stream",
     "text": [
      "2175/2175 [==============================] - 523s 240ms/step - loss: 0.0311 - accuracy: 0.9910 - val_loss: 0.0394 - val_accuracy: 0.9898\n"
     ]
    },
    {
     "data": {
      "text/plain": [
       "<keras.src.callbacks.History at 0x78b1cf734dc0>"
      ]
     },
     "execution_count": 15,
     "metadata": {},
     "output_type": "execute_result"
    }
   ],
   "source": [
    "# Epoch 8\n",
    "model.fit(X, y, epochs=1, validation_split=0.2)"
   ]
  },
  {
   "cell_type": "code",
   "execution_count": 16,
   "id": "89e59bfe",
   "metadata": {
    "execution": {
     "iopub.execute_input": "2024-06-12T07:48:13.629968Z",
     "iopub.status.busy": "2024-06-12T07:48:13.629306Z",
     "iopub.status.idle": "2024-06-12T07:56:57.753830Z",
     "shell.execute_reply": "2024-06-12T07:56:57.752284Z"
    },
    "papermill": {
     "duration": 527.983375,
     "end_time": "2024-06-12T07:56:59.869931",
     "exception": false,
     "start_time": "2024-06-12T07:48:11.886556",
     "status": "completed"
    },
    "tags": []
   },
   "outputs": [
    {
     "name": "stdout",
     "output_type": "stream",
     "text": [
      "2175/2175 [==============================] - 519s 238ms/step - loss: 0.0217 - accuracy: 0.9934 - val_loss: 0.0196 - val_accuracy: 0.9949\n"
     ]
    },
    {
     "data": {
      "text/plain": [
       "<keras.src.callbacks.History at 0x78b1cf6f61a0>"
      ]
     },
     "execution_count": 16,
     "metadata": {},
     "output_type": "execute_result"
    }
   ],
   "source": [
    "# Epoch 9\n",
    "model.fit(X, y, epochs=1, validation_split=0.2)"
   ]
  },
  {
   "cell_type": "code",
   "execution_count": 17,
   "id": "b032bf26",
   "metadata": {
    "execution": {
     "iopub.execute_input": "2024-06-12T07:57:03.948538Z",
     "iopub.status.busy": "2024-06-12T07:57:03.948040Z",
     "iopub.status.idle": "2024-06-12T08:05:56.316585Z",
     "shell.execute_reply": "2024-06-12T08:05:56.315062Z"
    },
    "papermill": {
     "duration": 536.666779,
     "end_time": "2024-06-12T08:05:58.645853",
     "exception": false,
     "start_time": "2024-06-12T07:57:01.979074",
     "status": "completed"
    },
    "tags": []
   },
   "outputs": [
    {
     "name": "stdout",
     "output_type": "stream",
     "text": [
      "2175/2175 [==============================] - 527s 242ms/step - loss: 0.0231 - accuracy: 0.9935 - val_loss: 0.0586 - val_accuracy: 0.9843\n"
     ]
    },
    {
     "data": {
      "text/plain": [
       "<keras.src.callbacks.History at 0x78b1cf79bcd0>"
      ]
     },
     "execution_count": 17,
     "metadata": {},
     "output_type": "execute_result"
    }
   ],
   "source": [
    "# Epoch 10\n",
    "model.fit(X, y, epochs=1, validation_split=0.2)"
   ]
  },
  {
   "cell_type": "markdown",
   "id": "37388f7c",
   "metadata": {
    "papermill": {
     "duration": 2.324608,
     "end_time": "2024-06-12T08:06:03.293302",
     "exception": false,
     "start_time": "2024-06-12T08:06:00.968694",
     "status": "completed"
    },
    "tags": []
   },
   "source": [
    "**Evaluation**"
   ]
  },
  {
   "cell_type": "code",
   "execution_count": 18,
   "id": "2e722075",
   "metadata": {
    "execution": {
     "iopub.execute_input": "2024-06-12T08:06:07.800457Z",
     "iopub.status.busy": "2024-06-12T08:06:07.799980Z",
     "iopub.status.idle": "2024-06-12T08:13:51.341234Z",
     "shell.execute_reply": "2024-06-12T08:13:51.339771Z"
    },
    "papermill": {
     "duration": 468.544726,
     "end_time": "2024-06-12T08:13:54.018572",
     "exception": false,
     "start_time": "2024-06-12T08:06:05.473846",
     "status": "completed"
    },
    "tags": []
   },
   "outputs": [
    {
     "name": "stdout",
     "output_type": "stream",
     "text": [
      "2719/2719 [==============================] - 153s 56ms/step - loss: 0.0427 - accuracy: 0.9880\n",
      "Test accuracy: 0.9879655241966248\n"
     ]
    }
   ],
   "source": [
    "test_data = create_training_data()  \n",
    "\n",
    "X_test = []\n",
    "y_test = []\n",
    "\n",
    "for features, label in test_data:\n",
    "    X_test.append(features)\n",
    "    y_test.append(label)\n",
    "\n",
    "X_test = np.array(X_test).reshape(-1, img_size, img_size, 1) / 255.0\n",
    "y_test = to_categorical(y_test, num_classes=len(categories))\n",
    "\n",
    "# Evaluate the model\n",
    "test_loss, test_acc = model.evaluate(X_test, y_test)\n",
    "print(f\"Test accuracy: {test_acc}\")"
   ]
  },
  {
   "cell_type": "code",
   "execution_count": 19,
   "id": "1daba79f",
   "metadata": {
    "execution": {
     "iopub.execute_input": "2024-06-12T08:13:59.127315Z",
     "iopub.status.busy": "2024-06-12T08:13:59.126836Z",
     "iopub.status.idle": "2024-06-12T08:14:00.624450Z",
     "shell.execute_reply": "2024-06-12T08:14:00.623094Z"
    },
    "papermill": {
     "duration": 3.959222,
     "end_time": "2024-06-12T08:14:00.627725",
     "exception": false,
     "start_time": "2024-06-12T08:13:56.668503",
     "status": "completed"
    },
    "tags": []
   },
   "outputs": [],
   "source": [
    "import numpy as np\n",
    "from sklearn.metrics import accuracy_score, f1_score, confusion_matrix\n",
    "import pandas as pd\n",
    "import seaborn as sns\n",
    "import matplotlib.pyplot as plt\n",
    "\n",
    "\n"
   ]
  },
  {
   "cell_type": "code",
   "execution_count": 20,
   "id": "01b0d252",
   "metadata": {
    "execution": {
     "iopub.execute_input": "2024-06-12T08:14:05.896886Z",
     "iopub.status.busy": "2024-06-12T08:14:05.896378Z",
     "iopub.status.idle": "2024-06-12T08:16:48.630519Z",
     "shell.execute_reply": "2024-06-12T08:16:48.629098Z"
    },
    "papermill": {
     "duration": 165.350309,
     "end_time": "2024-06-12T08:16:48.633640",
     "exception": false,
     "start_time": "2024-06-12T08:14:03.283331",
     "status": "completed"
    },
    "tags": []
   },
   "outputs": [
    {
     "name": "stdout",
     "output_type": "stream",
     "text": [
      "2719/2719 [==============================] - 151s 56ms/step\n"
     ]
    }
   ],
   "source": [
    "# Assuming you have prepared your test data\n",
    "X_test = np.array(X_test).reshape(-1, img_size, img_size, 1) / 255.0\n",
    "y_test_labels = np.argmax(y_test, axis=1)\n",
    "\n",
    "# Make predictions\n",
    "y_pred = model.predict(X_test)\n",
    "y_pred_labels = np.argmax(y_pred, axis=1)"
   ]
  },
  {
   "cell_type": "code",
   "execution_count": 21,
   "id": "89575178",
   "metadata": {
    "execution": {
     "iopub.execute_input": "2024-06-12T08:16:54.476398Z",
     "iopub.status.busy": "2024-06-12T08:16:54.475903Z",
     "iopub.status.idle": "2024-06-12T08:16:54.562928Z",
     "shell.execute_reply": "2024-06-12T08:16:54.561240Z"
    },
    "papermill": {
     "duration": 3.020677,
     "end_time": "2024-06-12T08:16:54.565536",
     "exception": false,
     "start_time": "2024-06-12T08:16:51.544859",
     "status": "completed"
    },
    "tags": []
   },
   "outputs": [
    {
     "name": "stdout",
     "output_type": "stream",
     "text": [
      "Accuracy: 0.034482758620689655\n",
      "F1 Score (Macro): 0.002298876117780619\n",
      "F1 Score (Micro): 0.034482758620689655\n",
      "             Metric     Score\n",
      "0          Accuracy  0.034483\n",
      "1  F1 Score (Macro)  0.002299\n",
      "2  F1 Score (Micro)  0.034483\n"
     ]
    }
   ],
   "source": [
    "# Compute accuracy\n",
    "accuracy = accuracy_score(y_test_labels, y_pred_labels)\n",
    "\n",
    "# Compute F1 score (macro and micro)\n",
    "f1_macro = f1_score(y_test_labels, y_pred_labels, average='macro')\n",
    "f1_micro = f1_score(y_test_labels, y_pred_labels, average='micro')\n",
    "\n",
    "# Compute confusion matrix\n",
    "conf_matrix = confusion_matrix(y_test_labels, y_pred_labels)\n",
    "\n",
    "# Display metrics\n",
    "print(f\"Accuracy: {accuracy}\")\n",
    "print(f\"F1 Score (Macro): {f1_macro}\")\n",
    "print(f\"F1 Score (Micro): {f1_micro}\")\n",
    "\n",
    "# Create a DataFrame for metrics\n",
    "metrics_data = {\n",
    "    'Metric': ['Accuracy', 'F1 Score (Macro)', 'F1 Score (Micro)'],\n",
    "    'Score': [accuracy, f1_macro, f1_micro]\n",
    "}\n",
    "metrics_df = pd.DataFrame(metrics_data)\n",
    "\n",
    "# Display the metrics table\n",
    "print(metrics_df)"
   ]
  },
  {
   "cell_type": "markdown",
   "id": "aed40853",
   "metadata": {
    "papermill": {
     "duration": 2.917237,
     "end_time": "2024-06-12T08:17:00.400260",
     "exception": false,
     "start_time": "2024-06-12T08:16:57.483023",
     "status": "completed"
    },
    "tags": []
   },
   "source": [
    "**Testing the Output**"
   ]
  },
  {
   "cell_type": "code",
   "execution_count": 22,
   "id": "7410a032",
   "metadata": {
    "execution": {
     "iopub.execute_input": "2024-06-12T08:17:06.057266Z",
     "iopub.status.busy": "2024-06-12T08:17:06.056760Z",
     "iopub.status.idle": "2024-06-12T08:17:06.501472Z",
     "shell.execute_reply": "2024-06-12T08:17:06.499844Z"
    },
    "papermill": {
     "duration": 3.168798,
     "end_time": "2024-06-12T08:17:06.504539",
     "exception": false,
     "start_time": "2024-06-12T08:17:03.335741",
     "status": "completed"
    },
    "tags": []
   },
   "outputs": [
    {
     "data": {
      "image/png": "[encoded data removed]",
      "text/plain": [
       "<Figure size 640x480 with 1 Axes>"
      ]
     },
     "metadata": {},
     "output_type": "display_data"
    },
    {
     "name": "stdout",
     "output_type": "stream",
     "text": [
      "1/1 [==============================] - 0s 32ms/step\n",
      "Predicted Sign: G\n"
     ]
    }
   ],
   "source": [
    "import matplotlib.pyplot as plt\n",
    "import cv2\n",
    "import numpy as np\n",
    "\n",
    "def predict_and_display(image_path):\n",
    "    # Load and preprocess the image\n",
    "    img_array = cv2.imread(image_path, cv2.IMREAD_GRAYSCALE)\n",
    "    resized_array = cv2.resize(img_array, (img_size, img_size)).reshape(-1, img_size, img_size, 1) / 255.0\n",
    "    \n",
    "    # Display the image\n",
    "    plt.imshow(img_array, cmap='gray')\n",
    "    plt.title('Input Image')\n",
    "    plt.axis('off')\n",
    "    plt.show()\n",
    "    \n",
    "    # Make prediction\n",
    "    prediction = model.predict(resized_array)\n",
    "    predicted_label = categories[np.argmax(prediction)]\n",
    "    \n",
    "    # Display prediction\n",
    "    print(f\"Predicted Sign: {predicted_label}\")\n",
    "\n",
    "# Test the function\n",
    "predict_and_display('/kaggle/input/asl-alphabet/asl_alphabet_test/asl_alphabet_test/G_test.jpg')"
   ]
  }
 ],
 "metadata": {
  "kaggle": {
   "accelerator": "none",
   "dataSources": [
    {
     "datasetId": 23079,
     "sourceId": 29550,
     "sourceType": "datasetVersion"
    }
   ],
   "dockerImageVersionId": 30732,
   "isGpuEnabled": false,
   "isInternetEnabled": true,
   "language": "python",
   "sourceType": "notebook"
  },
  "kernelspec": {
   "display_name": "Python 3",
   "language": "python",
   "name": "python3"
  },
  "language_info": {
   "codemirror_mode": {
    "name": "ipython",
    "version": 3
   },
   "file_extension": ".py",
   "mimetype": "text/x-python",
   "name": "python",
   "nbconvert_exporter": "python",
   "pygments_lexer": "ipython3",
   "version": "3.10.13"
  },
  "papermill": {
   "default_parameters": {},
   "duration": 6737.887365,
   "end_time": "2024-06-12T08:17:12.145753",
   "environment_variables": {},
   "exception": null,
   "input_path": "__notebook__.ipynb",
   "output_path": "__notebook__.ipynb",
   "parameters": {},
   "start_time": "2024-06-12T06:24:54.258388",
   "version": "2.5.0"
  }
 },
 "nbformat": 4,
 "nbformat_minor": 5
}
